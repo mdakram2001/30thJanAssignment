{
 "cells": [
  {
   "cell_type": "code",
   "execution_count": 1,
   "id": "fe865b51-24ce-4d07-80c7-36f5bb28c1a1",
   "metadata": {},
   "outputs": [
    {
     "name": "stdin",
     "output_type": "stream",
     "text": [
      "Enter your name: Akram\n",
      "Enter your marks: 30\n"
     ]
    },
    {
     "name": "stdout",
     "output_type": "stream",
     "text": [
      "Your grade is 'D' , Try to improve!\n"
     ]
    }
   ],
   "source": [
    "#1. Write a program to accept percentage from the user and display the grade according to the following criteria:\n",
    "name = input(\"Enter your name:\")\n",
    "marks = int(input(\"Enter your marks:\"))\n",
    "\n",
    "if marks > 90 and marks <= 100:\n",
    "    print(\"Congratulations!\", name , \"Your grade is 'A'\")\n",
    "elif marks > 80  and marks <= 90:\n",
    "    print(\"Congratulations!\", name , \"Your grade is 'B'\")\n",
    "elif marks >= 60 and marks <= 80:\n",
    "    print(\"Your have got 'C' grade\")\n",
    "elif marks < 60 and marks >= 0:\n",
    "    print(\"Your grade is 'D' , Try to improve!\")\n",
    "else:\n",
    "    print(\"Invalid input! Please try again...\")"
   ]
  },
  {
   "cell_type": "code",
   "execution_count": 2,
   "id": "de3491d4-1629-4066-9c1c-c1e9757bfc51",
   "metadata": {},
   "outputs": [
    {
     "name": "stdin",
     "output_type": "stream",
     "text": [
      "Enter the cost price of your bike : 90000\n"
     ]
    },
    {
     "name": "stdout",
     "output_type": "stream",
     "text": [
      "Your tax according to the cost price is 15% i.e, 9000.0\n"
     ]
    }
   ],
   "source": [
    "#2. Write a program to accept the cost price of a bike and display the road tax to be paid according to the following criteria:\n",
    "cost_price = int(input(\"Enter the cost price of your bike :\"))\n",
    "if cost_price > 100000:\n",
    "    a = (cost_price/100)*15\n",
    "    print(\"Your tax according to the cost price is 15% i.e,\", a)\n",
    "elif cost_price > 50000 and cost_price <= 100000:\n",
    "    a = (cost_price/100)*10\n",
    "    print(\"Your tax according to the cost price is 15% i.e,\", a)\n",
    "elif cost_price <= 50000:\n",
    "    a = (cost_price/100)*5\n",
    "    print(\"Your tax according to the cost price is 15% i.e,\", a)\n",
    "else:\n",
    "    print(\"No data available for the given price!\")"
   ]
  },
  {
   "cell_type": "code",
   "execution_count": 3,
   "id": "b5cc502d-c421-4640-9273-e8acbf5557cb",
   "metadata": {},
   "outputs": [
    {
     "name": "stdin",
     "output_type": "stream",
     "text": [
      "Enter any city you want to know about: Jaipur\n"
     ]
    },
    {
     "name": "stdout",
     "output_type": "stream",
     "text": [
      "Famous monument of Jaipur is Jal Mahal\n"
     ]
    }
   ],
   "source": [
    "#3. Accept any city from the user and display monuments of that city:\n",
    "city = input(\"Enter any city you want to know about:\")\n",
    "city = city.title()\n",
    "\n",
    "if city == \"Delhi\":\n",
    "    print(\"Famous monument of Delhi is Red Fort\")\n",
    "elif city == \"Agra\":\n",
    "    print(\"Famous monument of Agra is Taj Mahal\")\n",
    "elif city == \"Jaipur\":\n",
    "    print(\"Famous monument of Jaipur is Jal Mahal\")\n",
    "else:\n",
    "    print(\"Sorry, No Data available for this city!\")\n"
   ]
  },
  {
   "cell_type": "code",
   "execution_count": 4,
   "id": "73972de5-fc3d-49d3-abca-c0222a06b41f",
   "metadata": {},
   "outputs": [
    {
     "name": "stdin",
     "output_type": "stream",
     "text": [
      "Enter a number you want to divide : 45000\n"
     ]
    },
    {
     "name": "stdout",
     "output_type": "stream",
     "text": [
      "45000\n",
      "1\n",
      "15000.0\n",
      "2\n",
      "5000.0\n",
      "3\n",
      "1666.6666666666667\n",
      "4\n",
      "555.5555555555555\n",
      "5\n",
      "185.1851851851852\n",
      "6\n",
      "61.7283950617284\n",
      "7\n",
      "20.5761316872428\n",
      "8\n",
      "Given number can be divide 8 times by 3 before it is less than or equal to 10\n"
     ]
    }
   ],
   "source": [
    "#4.\n",
    "number = int(input(\"Enter a number you want to divide :\"))\n",
    "count = 0\n",
    "while number >= 10:\n",
    "    print(number)\n",
    "    number = number/3\n",
    "    count = count + 1\n",
    "    print(count)\n",
    "print(\"Given number can be divide\", count, \"times by 3 before it is less than or equal to 10\")"
   ]
  },
  {
   "cell_type": "code",
   "execution_count": null,
   "id": "4568c0e7-6fa1-4b08-8fc4-10fd882232e2",
   "metadata": {},
   "outputs": [],
   "source": [
    "5. With the while loop we can execute a set of statements as long as a condition is true. Unlike for loop the minimum requirement for while loop to execute is a condition. For e.g: 1\n",
    "while True:\n",
    "    print(\"Hello World!\")\n",
    "Above Example will give an infinite loop, because there is no condition for ending the loop.\n",
    "e.g: 2\n",
    "i = 0\n",
    "while i < 10:\n",
    "    print(\"Hello World!\")\n",
    "    i = i + 1\n",
    "The 2nd example will give an finite loop because the ending condition is given in the loop i.e, i < 10. Here to keep this loop finite we have to increase i to reach the end point."
   ]
  },
  {
   "cell_type": "code",
   "execution_count": 5,
   "id": "8e82be14-da71-4b21-8446-6556b062b4ec",
   "metadata": {},
   "outputs": [
    {
     "name": "stdout",
     "output_type": "stream",
     "text": [
      "* * * *\n",
      "*      *\n",
      "* * * *\n",
      "*\n",
      "*\n",
      "\n",
      "*         *\n",
      " *   *   *\n",
      "  * * * *\n",
      "   *   *\n",
      "\n",
      " * * * * *\n",
      "*\n",
      " * * * *\n",
      "         *\n",
      "* * * * *\n"
     ]
    }
   ],
   "source": [
    "#6.\n",
    "i = 0\n",
    "while i <= 0:\n",
    "    print(\"* * * *\\n*      *\\n* * * *\\n*\\n*\\n\")\n",
    "    i = i + 1\n",
    "    j = 0\n",
    "    while j == 0:\n",
    "        print(\"*         *\\n *   *   *\\n  * * * *\\n   *   *\\n\")\n",
    "        j = j + 1\n",
    "        k = 0\n",
    "        while k == 0:\n",
    "            print(\" * * * * *\\n*\\n * * * *\\n         *\\n* * * * *\")\n",
    "            k = k + 1"
   ]
  },
  {
   "cell_type": "code",
   "execution_count": 6,
   "id": "8c412ad9-df12-4f5f-8039-278fbf800516",
   "metadata": {},
   "outputs": [
    {
     "name": "stdout",
     "output_type": "stream",
     "text": [
      "10\n",
      "9\n",
      "8\n",
      "7\n",
      "6\n",
      "5\n",
      "4\n",
      "3\n",
      "2\n",
      "1\n"
     ]
    }
   ],
   "source": [
    "#7.\n",
    "i = 10\n",
    "while i >= 1:\n",
    "    print(i)\n",
    "    i = i - 1"
   ]
  },
  {
   "cell_type": "code",
   "execution_count": 7,
   "id": "1f9bd507-3dce-489b-96ba-e254d67aa850",
   "metadata": {},
   "outputs": [
    {
     "name": "stdout",
     "output_type": "stream",
     "text": [
      "10\n",
      "9\n",
      "8\n",
      "7\n",
      "6\n",
      "5\n",
      "4\n",
      "3\n",
      "2\n",
      "1\n"
     ]
    }
   ],
   "source": [
    "#8.\n",
    "i = 10\n",
    "while i >= 1:\n",
    "    print(i)\n",
    "    i = i - 1"
   ]
  },
  {
   "cell_type": "code",
   "execution_count": null,
   "id": "4d20d7fb-fae7-49fc-ac27-b6dd0168ffb6",
   "metadata": {},
   "outputs": [],
   "source": []
  }
 ],
 "metadata": {
  "kernelspec": {
   "display_name": "Python 3 (ipykernel)",
   "language": "python",
   "name": "python3"
  },
  "language_info": {
   "codemirror_mode": {
    "name": "ipython",
    "version": 3
   },
   "file_extension": ".py",
   "mimetype": "text/x-python",
   "name": "python",
   "nbconvert_exporter": "python",
   "pygments_lexer": "ipython3",
   "version": "3.10.8"
  }
 },
 "nbformat": 4,
 "nbformat_minor": 5
}
